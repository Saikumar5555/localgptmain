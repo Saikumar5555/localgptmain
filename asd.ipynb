{
 "cells": [
  {
   "cell_type": "code",
   "execution_count": 2,
   "metadata": {},
   "outputs": [],
   "source": [
    "import os\n",
    "import json\n",
    "import subprocess\n",
    "import PyPDF2"
   ]
  },
  {
   "cell_type": "code",
   "execution_count": 7,
   "metadata": {},
   "outputs": [
    {
     "name": "stdout",
     "output_type": "stream",
     "text": [
      "Error storing embeddings in Chroma DB: [Errno 2] No such file or directory: 'chroma'\n",
      "PDF processed and embeddings stored successfully.\n"
     ]
    }
   ],
   "source": [
    "import os\n",
    "import json\n",
    "import subprocess\n",
    "import PyPDF2\n",
    "\n",
    "# Function to extract text from PDF using PyPDF2\n",
    "def extract_text_from_pdf(pdf_path):\n",
    "    text = \"\"\n",
    "    try:\n",
    "        with open(pdf_path, 'rb') as file:\n",
    "            reader = PyPDF2.PdfReader(file)\n",
    "            for page_num in range(len(reader.pages)):\n",
    "                text += reader.pages[page_num].extract_text()\n",
    "    except Exception as e:\n",
    "        print(f\"Error extracting text from PDF: {e}\")\n",
    "    return text\n",
    "\n",
    "# Function to generate embeddings (replace with your actual method)\n",
    "def generate_embeddings(text):\n",
    "    # Placeholder code for generating embeddings\n",
    "    # Replace with your actual embedding generation method\n",
    "    embedding = [0.1, 0.2, 0.3, 0.4, 0.5]  # Example placeholder embedding\n",
    "    return embedding\n",
    "\n",
    "# Function to store embeddings in Chroma DB\n",
    "def store_embeddings_in_chroma(embedding, vector_db_path):\n",
    "    try:\n",
    "        # Convert embedding to a list if it's not already\n",
    "        if not isinstance(embedding, list):\n",
    "            embedding = list(embedding)\n",
    "\n",
    "        # Serialize embedding to JSON\n",
    "        embedding_json = json.dumps({\"embedding\": embedding})\n",
    "\n",
    "        # Write JSON to a temporary file\n",
    "        with open('document_embedding.json', 'w') as f:\n",
    "            json.dump({\"embedding\": embedding}, f)\n",
    "\n",
    "        # Use subprocess to insert embedding into Chroma DB\n",
    "        subprocess.run(['chroma', 'db', 'insert', '--collection_name', 'my_collection', '--embedding_file', 'document_embedding.json', '--vector_db_path', vector_db_path])\n",
    "\n",
    "        # Remove temporary embedding file\n",
    "        os.remove('document_embedding.json')\n",
    "\n",
    "    except Exception as e:\n",
    "        print(f\"Error storing embeddings in Chroma DB: {e}\")\n",
    "\n",
    "# Example PDF file path\n",
    "pdf_file_path = '/home/sai/Documents/Saikumar/API/ho/Earthquake.pdf'\n",
    "vector_db_path = '/home/sai/Documents/Saikumar/API/vectordb/chroma.sqlite3'  # Specify your vector DB path here\n",
    "\n",
    "# Main workflow function\n",
    "def process_pdf_to_chroma(pdf_path, vector_db_path):\n",
    "    try:\n",
    "        # Extract text from PDF\n",
    "        text = extract_text_from_pdf(pdf_path)\n",
    "\n",
    "        # Generate embeddings from extracted text\n",
    "        embedding = generate_embeddings(text)\n",
    "\n",
    "        # Store embeddings in Chroma DB\n",
    "        store_embeddings_in_chroma(embedding, vector_db_path)\n",
    "        \n",
    "        print(\"PDF processed and embeddings stored successfully.\")\n",
    "    except Exception as e:\n",
    "        print(f\"Error processing PDF to Chroma DB: {e}\")\n",
    "\n",
    "# Run the main workflow\n",
    "if __name__ == \"__main__\":\n",
    "    process_pdf_to_chroma(pdf_file_path, vector_db_path)\n"
   ]
  },
  {
   "cell_type": "code",
   "execution_count": null,
   "metadata": {},
   "outputs": [],
   "source": []
  }
 ],
 "metadata": {
  "kernelspec": {
   "display_name": "asdfa",
   "language": "python",
   "name": "python3"
  },
  "language_info": {
   "codemirror_mode": {
    "name": "ipython",
    "version": 3
   },
   "file_extension": ".py",
   "mimetype": "text/x-python",
   "name": "python",
   "nbconvert_exporter": "python",
   "pygments_lexer": "ipython3",
   "version": "3.10.14"
  }
 },
 "nbformat": 4,
 "nbformat_minor": 2
}
